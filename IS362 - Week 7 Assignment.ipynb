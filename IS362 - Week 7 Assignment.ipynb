{
 "cells": [
  {
   "cell_type": "markdown",
   "metadata": {},
   "source": [
    "## Comparing Original Data Against Normalization and Standardization\n",
    "\n",
    "### Begin with ingesting the survey results."
   ]
  },
  {
   "cell_type": "code",
   "execution_count": 113,
   "metadata": {},
   "outputs": [
    {
     "name": "stdout",
     "output_type": "stream",
     "text": [
      "    Name  Parasite  Avengers: Endgame  Joker  Hustlers  Midsommar  \\\n",
      "0  Chris         5                  5      3         2          2   \n",
      "1   Kyle         4                  5      5         0          0   \n",
      "2   Fred         0                  0      0         0          0   \n",
      "3  Erick         0                  5      5         5          0   \n",
      "4   Iris         0                  4      3         0          0   \n",
      "\n",
      "   TO ALL THE BOYS 2: P.S. I Still Love You  \n",
      "0                                         0  \n",
      "1                                         0  \n",
      "2                                         0  \n",
      "3                                         0  \n",
      "4                                         0  \n"
     ]
    }
   ],
   "source": [
    "import pandas as pd\n",
    "import numpy as np\n",
    "\n",
    "path_to_file = \"C:\\\\Users\\\\kboostri\\\\OneDrive - Schrafts's 2.0 LLC\\\\Documents\\\\Kathy\\\\Survey.csv\"\n",
    "\n",
    "df = pd.read_csv(path_to_file)\n",
    "\n",
    "print(df.head())"
   ]
  },
  {
   "cell_type": "markdown",
   "metadata": {},
   "source": [
    "### Take the averages of the unaltered original data."
   ]
  },
  {
   "cell_type": "code",
   "execution_count": 114,
   "metadata": {},
   "outputs": [
    {
     "name": "stdout",
     "output_type": "stream",
     "text": [
      "Parasite                                    1.4\n",
      "Avengers: Endgame                           3.7\n",
      "Joker                                       2.4\n",
      "Hustlers                                    0.7\n",
      "Midsommar                                   1.4\n",
      "TO ALL THE BOYS 2: P.S. I Still Love You    0.8\n",
      "Name: Average, dtype: float64\n"
     ]
    }
   ],
   "source": [
    "df.set_index('Name', inplace = True)\n",
    "df_orig = df\n",
    "df_orig.loc['Average'] =df_orig.mean()\n",
    "\n",
    "#f_transposed = df.T\n",
    "#print(df)\n",
    "print(df_orig.loc['Average'])"
   ]
  },
  {
   "cell_type": "markdown",
   "metadata": {},
   "source": [
    "### Take the averages of the normalized data"
   ]
  },
  {
   "cell_type": "code",
   "execution_count": 115,
   "metadata": {},
   "outputs": [
    {
     "name": "stdout",
     "output_type": "stream",
     "text": [
      "Parasite                                    0.28\n",
      "Avengers: Endgame                           0.74\n",
      "Joker                                       0.48\n",
      "Hustlers                                    0.14\n",
      "Midsommar                                   0.35\n",
      "TO ALL THE BOYS 2: P.S. I Still Love You    0.16\n",
      "Name: Average, dtype: float64\n"
     ]
    }
   ],
   "source": [
    "normalized_df = (df - df.min())/(df.max()-df.min())\n",
    "normalized_df.loc['Average'] =normalized_df.mean()\n",
    "#print(normalized_df)\n",
    "print(normalized_df.loc['Average'])"
   ]
  },
  {
   "cell_type": "markdown",
   "metadata": {},
   "source": [
    "### Take the averages of the standardized data, displaying the entire dataset, as well, to see if that the averages are valid (since the values are so small that even up to the eighth decimal place, there is no value). "
   ]
  },
  {
   "cell_type": "code",
   "execution_count": 122,
   "metadata": {},
   "outputs": [
    {
     "name": "stdout",
     "output_type": "stream",
     "text": [
      "         Parasite  Avengers: Endgame     Joker  Hustlers  Midsommar  \\\n",
      "Name                                                                  \n",
      "Chris    1.671258           0.684211  0.333333  0.837404   0.333333   \n",
      "Kyle     1.207020           0.684211  1.444444 -0.450910  -0.777778   \n",
      "Fred    -0.649934          -1.947368 -1.333333 -0.450910  -0.777778   \n",
      "Erick   -0.649934           0.684211  1.444444  2.769873  -0.777778   \n",
      "Iris    -0.649934           0.157895  0.333333 -0.450910  -0.777778   \n",
      "Charles  1.671258           0.684211  0.333333 -0.450910   1.444444   \n",
      "Barbara -0.649934          -1.947368 -1.333333 -0.450910  -0.777778   \n",
      "Reynard -0.649934           0.157895 -1.333333 -0.450910  -0.777778   \n",
      "Mark    -0.649934           0.684211 -0.222222 -0.450910   1.444444   \n",
      "Ajay    -0.649934           0.157895  0.333333 -0.450910   1.444444   \n",
      "Average -0.000000          -0.000000  0.000000 -0.000000  -0.000000   \n",
      "\n",
      "         TO ALL THE BOYS 2: P.S. I Still Love You  \n",
      "Name                                               \n",
      "Chris                                   -0.481543  \n",
      "Kyle                                    -0.481543  \n",
      "Fred                                    -0.481543  \n",
      "Erick                                   -0.481543  \n",
      "Iris                                    -0.481543  \n",
      "Charles                                 -0.481543  \n",
      "Barbara                                  2.528103  \n",
      "Reynard                                 -0.481543  \n",
      "Mark                                     1.324244  \n",
      "Ajay                                    -0.481543  \n",
      "Average                                  0.000000  \n"
     ]
    }
   ],
   "source": [
    "standardized_df=(df-df.mean())/df.std()\n",
    "standardized_df.loc['Average'] =standardized_df.mean()\n",
    "rounded = standardized_df.round(8)\n",
    "\n",
    "print(rounded)"
   ]
  },
  {
   "cell_type": "code",
   "execution_count": 123,
   "metadata": {},
   "outputs": [
    {
     "name": "stdout",
     "output_type": "stream",
     "text": [
      "Parasite                                   -0.0\n",
      "Avengers: Endgame                          -0.0\n",
      "Joker                                       0.0\n",
      "Hustlers                                   -0.0\n",
      "Midsommar                                  -0.0\n",
      "TO ALL THE BOYS 2: P.S. I Still Love You    0.0\n",
      "Name: Average, dtype: float64\n"
     ]
    }
   ],
   "source": [
    "print(rounded.loc['Average'])"
   ]
  },
  {
   "cell_type": "markdown",
   "metadata": {},
   "source": [
    "### Map each average on a bar chart to see differences."
   ]
  },
  {
   "cell_type": "code",
   "execution_count": 137,
   "metadata": {},
   "outputs": [
    {
     "data": {
      "text/plain": [
       "<matplotlib.axes._subplots.AxesSubplot at 0x17bab2fbf88>"
      ]
     },
     "execution_count": 137,
     "metadata": {},
     "output_type": "execute_result"
    },
    {
     "data": {
      "image/png": "[encoded data removed]",
      "text/plain": [
       "<Figure size 432x288 with 1 Axes>"
      ]
     },
     "metadata": {
      "needs_background": "light"
     },
     "output_type": "display_data"
    }
   ],
   "source": [
    "df_orig_avg = df_orig.loc['Average'] \n",
    "df_orig_avg.plot(kind='bar', title = 'Original Unaltered Data')"
   ]
  },
  {
   "cell_type": "code",
   "execution_count": 133,
   "metadata": {},
   "outputs": [
    {
     "data": {
      "text/plain": [
       "<matplotlib.axes._subplots.AxesSubplot at 0x17baa1594c8>"
      ]
     },
     "execution_count": 133,
     "metadata": {},
     "output_type": "execute_result"
    },
    {
     "data": {
      "image/png": "[encoded data removed]",
      "text/plain": [
       "<Figure size 432x288 with 1 Axes>"
      ]
     },
     "metadata": {
      "needs_background": "light"
     },
     "output_type": "display_data"
    }
   ],
   "source": [
    "normalized_df_avg = normalized_df.loc['Average'] \n",
    "normalized_df_avg.plot(kind='bar', title = 'Normalized Data')"
   ]
  },
  {
   "cell_type": "markdown",
   "metadata": {},
   "source": [
    "### Normalizing the data shows the averages in similar pattern but on a smaller min-max scale. However, performing a standardization appears to provide such minute measurements that the values are too small to graph."
   ]
  },
  {
   "cell_type": "code",
   "execution_count": 134,
   "metadata": {},
   "outputs": [
    {
     "data": {
      "text/plain": [
       "<matplotlib.axes._subplots.AxesSubplot at 0x17bab196e88>"
      ]
     },
     "execution_count": 134,
     "metadata": {},
     "output_type": "execute_result"
    },
    {
     "data": {
      "image/png": "[encoded data removed]",
      "text/plain": [
       "<Figure size 432x288 with 1 Axes>"
      ]
     },
     "metadata": {
      "needs_background": "light"
     },
     "output_type": "display_data"
    }
   ],
   "source": [
    "rounded_avg = rounded.loc['Average'] \n",
    "rounded_avg.plot(kind='bar', title = 'Standardized Data')"
   ]
  }
 ],
 "metadata": {
  "kernelspec": {
   "display_name": "Python 3",
   "language": "python",
   "name": "python3"
  },
  "language_info": {
   "codemirror_mode": {
    "name": "ipython",
    "version": 3
   },
   "file_extension": ".py",
   "mimetype": "text/x-python",
   "name": "python",
   "nbconvert_exporter": "python",
   "pygments_lexer": "ipython3",
   "version": "3.7.4"
  }
 },
 "nbformat": 4,
 "nbformat_minor": 2
}
